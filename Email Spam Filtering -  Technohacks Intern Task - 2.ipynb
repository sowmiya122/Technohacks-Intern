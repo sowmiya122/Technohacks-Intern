{
 "cells": [
  {
   "cell_type": "markdown",
   "metadata": {},
   "source": [
    "## Technohacks Intern Task - 2"
   ]
  },
  {
   "cell_type": "markdown",
   "metadata": {},
   "source": [
    "## Email Spam Filtering"
   ]
  },
  {
   "cell_type": "code",
   "execution_count": 1,
   "metadata": {
    "execution": {
     "iopub.execute_input": "2023-09-30T16:52:29.866921Z",
     "iopub.status.busy": "2023-09-30T16:52:29.866448Z",
     "iopub.status.idle": "2023-09-30T16:52:29.870387Z",
     "shell.execute_reply": "2023-09-30T16:52:29.869634Z",
     "shell.execute_reply.started": "2023-09-30T16:52:29.866893Z"
    }
   },
   "outputs": [],
   "source": [
    "import pandas as pd"
   ]
  },
  {
   "cell_type": "code",
   "execution_count": 2,
   "metadata": {
    "execution": {
     "iopub.execute_input": "2023-09-30T16:52:29.871967Z",
     "iopub.status.busy": "2023-09-30T16:52:29.871482Z",
     "iopub.status.idle": "2023-09-30T16:52:29.910664Z",
     "shell.execute_reply": "2023-09-30T16:52:29.909397Z",
     "shell.execute_reply.started": "2023-09-30T16:52:29.871941Z"
    },
    "scrolled": true
   },
   "outputs": [
    {
     "data": {
      "text/html": [
       "<div>\n",
       "<style scoped>\n",
       "    .dataframe tbody tr th:only-of-type {\n",
       "        vertical-align: middle;\n",
       "    }\n",
       "\n",
       "    .dataframe tbody tr th {\n",
       "        vertical-align: top;\n",
       "    }\n",
       "\n",
       "    .dataframe thead th {\n",
       "        text-align: right;\n",
       "    }\n",
       "</style>\n",
       "<table border=\"1\" class=\"dataframe\">\n",
       "  <thead>\n",
       "    <tr style=\"text-align: right;\">\n",
       "      <th></th>\n",
       "      <th>v1,v2,,,</th>\n",
       "    </tr>\n",
       "  </thead>\n",
       "  <tbody>\n",
       "    <tr>\n",
       "      <th>0</th>\n",
       "      <td>ham,\"Go until jurong point, crazy.. Available ...</td>\n",
       "    </tr>\n",
       "    <tr>\n",
       "      <th>1</th>\n",
       "      <td>ham,Ok lar... Joking wif u oni...,,,</td>\n",
       "    </tr>\n",
       "    <tr>\n",
       "      <th>2</th>\n",
       "      <td>spam,Free entry in 2 a wkly comp to win FA Cup...</td>\n",
       "    </tr>\n",
       "    <tr>\n",
       "      <th>3</th>\n",
       "      <td>ham,U dun say so early hor... U c already then...</td>\n",
       "    </tr>\n",
       "    <tr>\n",
       "      <th>4</th>\n",
       "      <td>ham,\"Nah I don't think he goes to usf, he live...</td>\n",
       "    </tr>\n",
       "  </tbody>\n",
       "</table>\n",
       "</div>"
      ],
      "text/plain": [
       "                                            v1,v2,,,\n",
       "0  ham,\"Go until jurong point, crazy.. Available ...\n",
       "1               ham,Ok lar... Joking wif u oni...,,,\n",
       "2  spam,Free entry in 2 a wkly comp to win FA Cup...\n",
       "3  ham,U dun say so early hor... U c already then...\n",
       "4  ham,\"Nah I don't think he goes to usf, he live..."
      ]
     },
     "execution_count": 2,
     "metadata": {},
     "output_type": "execute_result"
    }
   ],
   "source": [
    "# Read the CSV file with the specified parameters\n",
    "df = pd.read_csv(\"spam.csv\", sep='\\t', encoding='ISO-8859-1')\n",
    "df.head()"
   ]
  },
  {
   "cell_type": "code",
   "execution_count": 3,
   "metadata": {},
   "outputs": [],
   "source": [
    "df[['label', 'message']] = df['v1,v2,,,'].str.split(',', n=1, expand=True)"
   ]
  },
  {
   "cell_type": "code",
   "execution_count": 4,
   "metadata": {},
   "outputs": [],
   "source": [
    "df.drop('v1,v2,,,', axis=1, inplace=True)"
   ]
  },
  {
   "cell_type": "code",
   "execution_count": 5,
   "metadata": {},
   "outputs": [
    {
     "data": {
      "text/html": [
       "<div>\n",
       "<style scoped>\n",
       "    .dataframe tbody tr th:only-of-type {\n",
       "        vertical-align: middle;\n",
       "    }\n",
       "\n",
       "    .dataframe tbody tr th {\n",
       "        vertical-align: top;\n",
       "    }\n",
       "\n",
       "    .dataframe thead th {\n",
       "        text-align: right;\n",
       "    }\n",
       "</style>\n",
       "<table border=\"1\" class=\"dataframe\">\n",
       "  <thead>\n",
       "    <tr style=\"text-align: right;\">\n",
       "      <th></th>\n",
       "      <th>label</th>\n",
       "      <th>message</th>\n",
       "    </tr>\n",
       "  </thead>\n",
       "  <tbody>\n",
       "    <tr>\n",
       "      <th>0</th>\n",
       "      <td>ham</td>\n",
       "      <td>\"Go until jurong point, crazy.. Available only...</td>\n",
       "    </tr>\n",
       "    <tr>\n",
       "      <th>1</th>\n",
       "      <td>ham</td>\n",
       "      <td>Ok lar... Joking wif u oni...,,,</td>\n",
       "    </tr>\n",
       "    <tr>\n",
       "      <th>2</th>\n",
       "      <td>spam</td>\n",
       "      <td>Free entry in 2 a wkly comp to win FA Cup fina...</td>\n",
       "    </tr>\n",
       "    <tr>\n",
       "      <th>3</th>\n",
       "      <td>ham</td>\n",
       "      <td>U dun say so early hor... U c already then say...</td>\n",
       "    </tr>\n",
       "    <tr>\n",
       "      <th>4</th>\n",
       "      <td>ham</td>\n",
       "      <td>\"Nah I don't think he goes to usf, he lives ar...</td>\n",
       "    </tr>\n",
       "    <tr>\n",
       "      <th>5</th>\n",
       "      <td>spam</td>\n",
       "      <td>\"FreeMsg Hey there darling it's been 3 week's ...</td>\n",
       "    </tr>\n",
       "    <tr>\n",
       "      <th>6</th>\n",
       "      <td>ham</td>\n",
       "      <td>Even my brother is not like to speak with me. ...</td>\n",
       "    </tr>\n",
       "    <tr>\n",
       "      <th>7</th>\n",
       "      <td>ham</td>\n",
       "      <td>As per your request 'Melle Melle (Oru Minnamin...</td>\n",
       "    </tr>\n",
       "    <tr>\n",
       "      <th>8</th>\n",
       "      <td>spam</td>\n",
       "      <td>WINNER!! As a valued network customer you have...</td>\n",
       "    </tr>\n",
       "    <tr>\n",
       "      <th>9</th>\n",
       "      <td>spam</td>\n",
       "      <td>Had your mobile 11 months or more? U R entitle...</td>\n",
       "    </tr>\n",
       "  </tbody>\n",
       "</table>\n",
       "</div>"
      ],
      "text/plain": [
       "  label                                            message\n",
       "0   ham  \"Go until jurong point, crazy.. Available only...\n",
       "1   ham                   Ok lar... Joking wif u oni...,,,\n",
       "2  spam  Free entry in 2 a wkly comp to win FA Cup fina...\n",
       "3   ham  U dun say so early hor... U c already then say...\n",
       "4   ham  \"Nah I don't think he goes to usf, he lives ar...\n",
       "5  spam  \"FreeMsg Hey there darling it's been 3 week's ...\n",
       "6   ham  Even my brother is not like to speak with me. ...\n",
       "7   ham  As per your request 'Melle Melle (Oru Minnamin...\n",
       "8  spam  WINNER!! As a valued network customer you have...\n",
       "9  spam  Had your mobile 11 months or more? U R entitle..."
      ]
     },
     "execution_count": 5,
     "metadata": {},
     "output_type": "execute_result"
    }
   ],
   "source": [
    "df.head(10)"
   ]
  },
  {
   "cell_type": "code",
   "execution_count": 6,
   "metadata": {
    "execution": {
     "iopub.execute_input": "2023-09-30T16:52:29.913162Z",
     "iopub.status.busy": "2023-09-30T16:52:29.912856Z",
     "iopub.status.idle": "2023-09-30T16:52:29.917374Z",
     "shell.execute_reply": "2023-09-30T16:52:29.916402Z",
     "shell.execute_reply.started": "2023-09-30T16:52:29.913138Z"
    }
   },
   "outputs": [],
   "source": [
    "import re\n",
    "import nltk\n",
    "from nltk.corpus import stopwords\n",
    "from nltk.stem.porter import PorterStemmer"
   ]
  },
  {
   "cell_type": "code",
   "execution_count": 7,
   "metadata": {
    "execution": {
     "iopub.execute_input": "2023-09-30T16:52:29.918838Z",
     "iopub.status.busy": "2023-09-30T16:52:29.918556Z",
     "iopub.status.idle": "2023-09-30T16:52:40.778293Z",
     "shell.execute_reply": "2023-09-30T16:52:40.776941Z",
     "shell.execute_reply.started": "2023-09-30T16:52:29.918813Z"
    }
   },
   "outputs": [],
   "source": [
    "ps = PorterStemmer()\n",
    "corpus = []\n",
    "for i in range(0, len(df)):\n",
    "    review = re.sub('[^a-zA-Z]', ' ', df['message'][i])\n",
    "    review = review.lower()\n",
    "    review = review.split()\n",
    "    \n",
    "    review = [ps.stem(word) for word in review if not word in stopwords.words('english')]\n",
    "    review = ' '.join(review)\n",
    "    corpus.append(review)"
   ]
  },
  {
   "cell_type": "code",
   "execution_count": 8,
   "metadata": {
    "execution": {
     "iopub.execute_input": "2023-09-30T16:52:40.780602Z",
     "iopub.status.busy": "2023-09-30T16:52:40.780147Z",
     "iopub.status.idle": "2023-09-30T16:52:40.787803Z",
     "shell.execute_reply": "2023-09-30T16:52:40.786569Z",
     "shell.execute_reply.started": "2023-09-30T16:52:40.780574Z"
    }
   },
   "outputs": [
    {
     "data": {
      "text/plain": [
       "'go jurong point crazi avail bugi n great world la e buffet cine got amor wat'"
      ]
     },
     "execution_count": 8,
     "metadata": {},
     "output_type": "execute_result"
    }
   ],
   "source": [
    "corpus[0]"
   ]
  },
  {
   "cell_type": "markdown",
   "metadata": {},
   "source": [
    "### Vectorization"
   ]
  },
  {
   "cell_type": "code",
   "execution_count": 9,
   "metadata": {
    "execution": {
     "iopub.execute_input": "2023-09-30T16:52:40.789273Z",
     "iopub.status.busy": "2023-09-30T16:52:40.788974Z",
     "iopub.status.idle": "2023-09-30T16:52:40.952184Z",
     "shell.execute_reply": "2023-09-30T16:52:40.951110Z",
     "shell.execute_reply.started": "2023-09-30T16:52:40.789249Z"
    }
   },
   "outputs": [],
   "source": [
    "from sklearn.feature_extraction.text import CountVectorizer\n",
    "cv = CountVectorizer(max_features=5000)\n",
    "bag_of_words = cv.fit_transform(corpus).toarray()"
   ]
  },
  {
   "cell_type": "code",
   "execution_count": 10,
   "metadata": {
    "execution": {
     "iopub.execute_input": "2023-09-30T16:52:40.953683Z",
     "iopub.status.busy": "2023-09-30T16:52:40.953409Z",
     "iopub.status.idle": "2023-09-30T16:52:40.960513Z",
     "shell.execute_reply": "2023-09-30T16:52:40.959768Z",
     "shell.execute_reply.started": "2023-09-30T16:52:40.953659Z"
    }
   },
   "outputs": [
    {
     "data": {
      "text/plain": [
       "array([0, 0, 0, ..., 0, 0, 0], dtype=uint8)"
      ]
     },
     "execution_count": 10,
     "metadata": {},
     "output_type": "execute_result"
    }
   ],
   "source": [
    "spam_or_not = pd.get_dummies(df['label'])\n",
    "# Select the values of the second column after one-hot encoding\n",
    "spam_or_not = spam_or_not.iloc[:, 1].values\n",
    "spam_or_not"
   ]
  },
  {
   "cell_type": "markdown",
   "metadata": {},
   "source": [
    "### Splitting the dataset"
   ]
  },
  {
   "cell_type": "code",
   "execution_count": 11,
   "metadata": {
    "execution": {
     "iopub.execute_input": "2023-09-30T16:52:40.962187Z",
     "iopub.status.busy": "2023-09-30T16:52:40.961683Z",
     "iopub.status.idle": "2023-09-30T16:52:41.121829Z",
     "shell.execute_reply": "2023-09-30T16:52:41.120751Z",
     "shell.execute_reply.started": "2023-09-30T16:52:40.962159Z"
    }
   },
   "outputs": [],
   "source": [
    "from sklearn.model_selection import train_test_split\n",
    "X_train, X_test, y_train, y_test = train_test_split(bag_of_words, spam_or_not, test_size = 0.20, random_state = 0)"
   ]
  },
  {
   "cell_type": "markdown",
   "metadata": {},
   "source": [
    "### NAIVE BAYES MODEL"
   ]
  },
  {
   "cell_type": "markdown",
   "metadata": {},
   "source": [
    "**NAIVE BAYES MODEL**\n",
    "Naive Bayes is a popular and simple machine learning algorithm used for classification tasks, including text classification, spam detection, and sentiment analysis. It's based on Bayes' theorem, which is a probabilistic theorem used to calculate conditional probabilities.\n",
    "\n",
    "At the core of Naive Bayes is Bayes' theorem, which is used to calculate conditional probabilities. The theorem describes the probability of an event based on prior knowledge of conditions that might be related to the event. In the context of classification, it's used to calculate the probability of a particular class given some observed features.\n",
    "\n",
    "![](https://miro.medium.com/v2/resize:fit:1400/format:webp/1*CnoTGGO7XeUpUMeXDrIfvA.png)\n"
   ]
  },
  {
   "cell_type": "code",
   "execution_count": 12,
   "metadata": {
    "execution": {
     "iopub.execute_input": "2023-09-30T16:55:46.960919Z",
     "iopub.status.busy": "2023-09-30T16:55:46.960527Z",
     "iopub.status.idle": "2023-09-30T16:55:47.158160Z",
     "shell.execute_reply": "2023-09-30T16:55:47.157070Z",
     "shell.execute_reply.started": "2023-09-30T16:55:46.960883Z"
    }
   },
   "outputs": [
    {
     "data": {
      "text/plain": [
       "array([0, 0, 0, ..., 0, 0, 0], dtype=uint8)"
      ]
     },
     "execution_count": 12,
     "metadata": {},
     "output_type": "execute_result"
    }
   ],
   "source": [
    "from sklearn.naive_bayes import MultinomialNB\n",
    "spam_detect_model = MultinomialNB().fit(X_train, y_train)\n",
    "\n",
    "spam_pred=spam_detect_model.predict(X_test)\n",
    "spam_pred"
   ]
  },
  {
   "cell_type": "markdown",
   "metadata": {},
   "source": [
    "### Confusion Matrix"
   ]
  },
  {
   "cell_type": "code",
   "execution_count": 13,
   "metadata": {
    "execution": {
     "iopub.execute_input": "2023-09-30T16:55:37.363187Z",
     "iopub.status.busy": "2023-09-30T16:55:37.362786Z",
     "iopub.status.idle": "2023-09-30T16:55:37.373115Z",
     "shell.execute_reply": "2023-09-30T16:55:37.372090Z",
     "shell.execute_reply.started": "2023-09-30T16:55:37.363155Z"
    }
   },
   "outputs": [
    {
     "data": {
      "text/plain": [
       "array([[1112,    3],\n",
       "       [   0,    0]], dtype=int64)"
      ]
     },
     "execution_count": 13,
     "metadata": {},
     "output_type": "execute_result"
    }
   ],
   "source": [
    "from sklearn.metrics import confusion_matrix\n",
    "confusion_m = confusion_matrix(y_test,spam_pred)\n",
    "confusion_m "
   ]
  },
  {
   "cell_type": "markdown",
   "metadata": {},
   "source": [
    "### Accuracy Score"
   ]
  },
  {
   "cell_type": "code",
   "execution_count": 14,
   "metadata": {
    "execution": {
     "iopub.execute_input": "2023-09-30T16:57:23.445643Z",
     "iopub.status.busy": "2023-09-30T16:57:23.445222Z",
     "iopub.status.idle": "2023-09-30T16:57:23.453962Z",
     "shell.execute_reply": "2023-09-30T16:57:23.453116Z",
     "shell.execute_reply.started": "2023-09-30T16:57:23.445611Z"
    }
   },
   "outputs": [
    {
     "data": {
      "text/plain": [
       "0.9973094170403587"
      ]
     },
     "execution_count": 14,
     "metadata": {},
     "output_type": "execute_result"
    }
   ],
   "source": [
    "from sklearn.metrics import accuracy_score\n",
    "accuracy = accuracy_score(y_test,spam_pred)\n",
    "accuracy"
   ]
  },
  {
   "cell_type": "code",
   "execution_count": null,
   "metadata": {},
   "outputs": [],
   "source": []
  }
 ],
 "metadata": {
  "kernelspec": {
   "display_name": "Python 3 (ipykernel)",
   "language": "python",
   "name": "python3"
  },
  "language_info": {
   "codemirror_mode": {
    "name": "ipython",
    "version": 3
   },
   "file_extension": ".py",
   "mimetype": "text/x-python",
   "name": "python",
   "nbconvert_exporter": "python",
   "pygments_lexer": "ipython3",
   "version": "3.10.9"
  }
 },
 "nbformat": 4,
 "nbformat_minor": 4
}
